{
 "cells": [
  {
   "cell_type": "code",
   "execution_count": 1,
   "id": "2f52b778-11c2-46dc-8063-f12c51fd3b05",
   "metadata": {},
   "outputs": [],
   "source": [
    "import getSim"
   ]
  },
  {
   "cell_type": "code",
   "execution_count": 2,
   "id": "a39c51ea-fb0b-43cb-a1ed-14e4172ea541",
   "metadata": {},
   "outputs": [],
   "source": [
    "testSimobj = getSim.Sim()\n",
    "testSimobj.fiducial = True\n",
    "testSimobj.cut = {'NKGFitFlag':[0,3], 'NKGSize':[10**3.5,10**9], 'Theta1':[0,45],\\\n",
    "                       'Age':[0.2,1.8]}\n",
    "#testSimobj.distcut = True\n"
   ]
  },
  {
   "cell_type": "code",
   "execution_count": 4,
   "id": "932ad210-abf9-4509-9681-45bd33de18b3",
   "metadata": {},
   "outputs": [],
   "source": [
    "out = testSimobj.getvar(var=[ 'nMuonLarge', 'nMuonSmall',\\\n",
    "                'Age', 'NKGSize', 'NKGX', 'NKGY', 'Theta1', 'Phi1','PrimaryEnergy'])"
   ]
  },
  {
   "cell_type": "code",
   "execution_count": 15,
   "id": "c681da09-bba3-407e-a535-4dcc0483261b",
   "metadata": {},
   "outputs": [],
   "source": [
    "#out"
   ]
  },
  {
   "cell_type": "code",
   "execution_count": 6,
   "id": "4d4403aa-7df5-4bfd-b656-9ee23b0124d7",
   "metadata": {},
   "outputs": [],
   "source": [
    "import EAS"
   ]
  },
  {
   "cell_type": "code",
   "execution_count": 8,
   "id": "7eb012b8-f406-4a52-917f-bdcd0576749b",
   "metadata": {},
   "outputs": [],
   "source": [
    "testEASobj = EAS.EAS()"
   ]
  },
  {
   "cell_type": "code",
   "execution_count": 12,
   "id": "a44379b9-1ad6-4650-94e9-255765141e9a",
   "metadata": {},
   "outputs": [],
   "source": [
    "out = testEASobj.getvar()"
   ]
  },
  {
   "cell_type": "code",
   "execution_count": 14,
   "id": "b07c2a32-3a37-4351-a952-7ce0a5efa331",
   "metadata": {},
   "outputs": [],
   "source": [
    "# out"
   ]
  },
  {
   "cell_type": "code",
   "execution_count": 1,
   "id": "906fc31c-ee5f-4db3-a94b-5da8557fa7ba",
   "metadata": {},
   "outputs": [],
   "source": [
    "import fullEAS"
   ]
  },
  {
   "cell_type": "code",
   "execution_count": 3,
   "id": "1255918b-d347-4f14-be52-f4ec4bed6d98",
   "metadata": {},
   "outputs": [],
   "source": [
    "# %%time\n",
    "# data16 = fullEAS.FullEASdata().load(year = 2016,cache=False)"
   ]
  },
  {
   "cell_type": "code",
   "execution_count": 6,
   "id": "692f7850-1522-4fff-befe-4574dd9f3d39",
   "metadata": {},
   "outputs": [
    {
     "ename": "ModuleNotFoundError",
     "evalue": "No module named 'g3LLH_bg'",
     "output_type": "error",
     "traceback": [
      "\u001b[0;31m---------------------------------------------------------------------------\u001b[0m",
      "\u001b[0;31mModuleNotFoundError\u001b[0m                       Traceback (most recent call last)",
      "Cell \u001b[0;32mIn[6], line 1\u001b[0m\n\u001b[0;32m----> 1\u001b[0m \u001b[38;5;28;01mimport\u001b[39;00m \u001b[38;5;21;01mpsLLH\u001b[39;00m\n",
      "File \u001b[0;32m~/libs/g3py/g3py/psLLH.py:8\u001b[0m\n\u001b[1;32m      6\u001b[0m \u001b[38;5;28;01mimport\u001b[39;00m \u001b[38;5;21;01mastropy\u001b[39;00m\u001b[38;5;21;01m.\u001b[39;00m\u001b[38;5;21;01munits\u001b[39;00m \u001b[38;5;28;01mas\u001b[39;00m \u001b[38;5;21;01mu\u001b[39;00m\n\u001b[1;32m      7\u001b[0m \u001b[38;5;28;01mimport\u001b[39;00m \u001b[38;5;21;01mpickle\u001b[39;00m\n\u001b[0;32m----> 8\u001b[0m \u001b[38;5;28;01mimport\u001b[39;00m \u001b[38;5;21;01mg3LLH_bg\u001b[39;00m\n\u001b[1;32m      9\u001b[0m \u001b[38;5;28;01mimport\u001b[39;00m \u001b[38;5;21;01mIRF\u001b[39;00m\n\u001b[1;32m     12\u001b[0m \u001b[38;5;28;01mclass\u001b[39;00m \u001b[38;5;21;01mps\u001b[39;00m:\n",
      "\u001b[0;31mModuleNotFoundError\u001b[0m: No module named 'g3LLH_bg'"
     ]
    }
   ],
   "source": [
    "import psLLH"
   ]
  },
  {
   "cell_type": "code",
   "execution_count": null,
   "id": "75dd40bb-816f-4f82-b729-a598bff16f4e",
   "metadata": {},
   "outputs": [],
   "source": []
  }
 ],
 "metadata": {
  "kernelspec": {
   "display_name": "Python 3 (ipykernel)",
   "language": "python",
   "name": "python3"
  },
  "language_info": {
   "codemirror_mode": {
    "name": "ipython",
    "version": 3
   },
   "file_extension": ".py",
   "mimetype": "text/x-python",
   "name": "python",
   "nbconvert_exporter": "python",
   "pygments_lexer": "ipython3",
   "version": "3.10.9"
  }
 },
 "nbformat": 4,
 "nbformat_minor": 5
}
