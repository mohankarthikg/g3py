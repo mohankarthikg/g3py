{
 "cells": [
  {
   "cell_type": "code",
   "execution_count": 1,
   "id": "57d36d9b-238f-4665-8999-fec19880cacf",
   "metadata": {},
   "outputs": [],
   "source": [
    "import psLLH"
   ]
  },
  {
   "cell_type": "code",
   "execution_count": 2,
   "id": "09ad47e2-2585-47c4-b088-c26b4de3d835",
   "metadata": {},
   "outputs": [],
   "source": [
    "import fullEAS"
   ]
  },
  {
   "cell_type": "code",
   "execution_count": 3,
   "id": "2e6ce752-a3fd-465d-95df-3ebbabc4d374",
   "metadata": {},
   "outputs": [],
   "source": [
    "data = fullEAS.FullEASdata().out() "
   ]
  },
  {
   "cell_type": "code",
   "execution_count": 4,
   "id": "11ea582a-0422-46b3-93ae-56937ce774ac",
   "metadata": {},
   "outputs": [],
   "source": [
    "import pickle\n",
    "with open(f\"/boson/users/mohan/G3PY/psrcsim.pkl\", 'rb') as file:\n",
    "    out, srcdec , srcra = pickle.load(file)"
   ]
  },
  {
   "cell_type": "code",
   "execution_count": null,
   "id": "09fe4caa-bec8-4d00-ac20-6f445cf58c34",
   "metadata": {},
   "outputs": [],
   "source": []
  },
  {
   "cell_type": "code",
   "execution_count": 5,
   "id": "d5f3539a-46ac-42ce-b67d-ffff9dd5b84a",
   "metadata": {},
   "outputs": [],
   "source": [
    "ps = psLLH.ps(srcdec , srcra, data = data,psrcdata=out, n = 100, inj=True )"
   ]
  },
  {
   "cell_type": "code",
   "execution_count": 8,
   "id": "c5ecdd7d-da35-4799-a06e-7ab9782f3227",
   "metadata": {},
   "outputs": [
    {
     "name": "stdout",
     "output_type": "stream",
     "text": [
      "CPU times: user 15.7 s, sys: 40.5 ms, total: 15.7 s\n",
      "Wall time: 15.7 s\n"
     ]
    },
    {
     "data": {
      "text/plain": [
       "(np.float64(0.009292836301028728),\n",
       " np.float64(5199038.082452275),\n",
       " np.float64(1749274664.0323784),\n",
       " np.float64(5199038.073159439),\n",
       " -1.861083842235534e-06,\n",
       " True,\n",
       " 0,\n",
       " 1336612,\n",
       " 1)"
      ]
     },
     "execution_count": 8,
     "metadata": {},
     "output_type": "execute_result"
    }
   ],
   "source": [
    "%%time\n",
    "ps.TSClassicpdf(0)"
   ]
  },
  {
   "cell_type": "code",
   "execution_count": 6,
   "id": "2b9925a3-66bf-4e70-aadb-a7bd476c3fff",
   "metadata": {},
   "outputs": [
    {
     "data": {
      "text/plain": [
       "(np.float64(0.009292836301028728),\n",
       " np.float64(5199038.082452275),\n",
       " np.float64(1749274664.0323784),\n",
       " np.float64(5199038.073159439),\n",
       " -1.861083842235534e-06,\n",
       " True,\n",
       " 0,\n",
       " 1336612,\n",
       " 1)"
      ]
     },
     "execution_count": 6,
     "metadata": {},
     "output_type": "execute_result"
    }
   ],
   "source": [
    "ps.TSClassicpdf(0)"
   ]
  },
  {
   "cell_type": "code",
   "execution_count": 7,
   "id": "ddfe68b1-03e8-4736-b25e-d0bbac7913a5",
   "metadata": {},
   "outputs": [
    {
     "name": "stdout",
     "output_type": "stream",
     "text": [
      "CPU times: user 3min 50s, sys: 35.4 s, total: 4min 26s\n",
      "Wall time: 4min 26s\n"
     ]
    },
    {
     "data": {
      "text/plain": [
       "(np.float64(0.002581262029707432),\n",
       " np.float64(5205950.769362683),\n",
       " 8.443332625789508e-07,\n",
       " 3.000001805986449,\n",
       " True,\n",
       " 0,\n",
       " 1336612,\n",
       " 1)"
      ]
     },
     "execution_count": 7,
     "metadata": {},
     "output_type": "execute_result"
    }
   ],
   "source": [
    "%%time\n",
    "ps.TSSpatialEnergyPdf(0)"
   ]
  },
  {
   "cell_type": "code",
   "execution_count": 8,
   "id": "71bbc274-81ab-4907-b290-83ddd1a01750",
   "metadata": {},
   "outputs": [
    {
     "name": "stdout",
     "output_type": "stream",
     "text": [
      "CPU times: user 3min 50s, sys: 35.1 s, total: 4min 25s\n",
      "Wall time: 4min 26s\n"
     ]
    },
    {
     "data": {
      "text/plain": [
       "(np.float64(0.002581262029707432),\n",
       " np.float64(5205950.769362683),\n",
       " 8.443332625789508e-07,\n",
       " 3.000001805986449,\n",
       " True,\n",
       " 0,\n",
       " 1336612,\n",
       " 1)"
      ]
     },
     "execution_count": 8,
     "metadata": {},
     "output_type": "execute_result"
    }
   ],
   "source": [
    "%%time\n",
    "ps.TSSpatialEnergyPdf(0)"
   ]
  },
  {
   "cell_type": "code",
   "execution_count": 2,
   "id": "2f52b778-11c2-46dc-8063-f12c51fd3b05",
   "metadata": {},
   "outputs": [],
   "source": [
    "import Sim"
   ]
  },
  {
   "cell_type": "code",
   "execution_count": 1,
   "id": "8e388543-007b-431b-ab2e-b8794838a6b2",
   "metadata": {},
   "outputs": [],
   "source": [
    "import numpy as np"
   ]
  },
  {
   "cell_type": "code",
   "execution_count": 6,
   "id": "7575c953-5e9b-4f6a-8c4d-d89ce75726e8",
   "metadata": {},
   "outputs": [],
   "source": [
    "import matplotlib.pyplot as plt"
   ]
  },
  {
   "cell_type": "code",
   "execution_count": 19,
   "id": "58ac40b2-d4bc-4939-bcae-9bf5d45907f7",
   "metadata": {},
   "outputs": [
    {
     "data": {
      "text/plain": [
       "array([0.37681047, 0.27350227, 0.20188693, 0.12155864, 0.95378549,\n",
       "       0.0658011 , 0.285467  , 0.22569063, 0.60507219, 0.3035371 ])"
      ]
     },
     "execution_count": 19,
     "metadata": {},
     "output_type": "execute_result"
    }
   ],
   "source": [
    "np.random.choice(np.random.uniform(0,1, 1000),10)"
   ]
  },
  {
   "cell_type": "code",
   "execution_count": 13,
   "id": "8dfdf617-45f7-4b7c-88bb-4ee19a702120",
   "metadata": {},
   "outputs": [
    {
     "data": {
      "text/plain": [
       "(array([6.7000e+01, 1.2740e+03, 9.0710e+03, 2.6704e+04, 3.4283e+04,\n",
       "        2.1164e+04, 6.2860e+03, 1.0470e+03, 9.8000e+01, 6.0000e+00]),\n",
       " array([ 60. ,  69.1,  78.2,  87.3,  96.4, 105.5, 114.6, 123.7, 132.8,\n",
       "        141.9, 151. ]),\n",
       " [<matplotlib.patches.Polygon at 0x7fc0c267ee40>])"
      ]
     },
     "execution_count": 13,
     "metadata": {},
     "output_type": "execute_result"
    },
    {
     "data": {
      "image/png": "[encoded data removed]",
      "text/plain": [
       "<Figure size 640x480 with 1 Axes>"
      ]
     },
     "metadata": {},
     "output_type": "display_data"
    }
   ],
   "source": [
    "plt.hist(, histtype= 'step')"
   ]
  },
  {
   "cell_type": "code",
   "execution_count": 3,
   "id": "a39c51ea-fb0b-43cb-a1ed-14e4172ea541",
   "metadata": {},
   "outputs": [],
   "source": [
    "testSimobj = Sim.Sim()\n",
    "testSimobj.fiducial = True\n",
    "testSimobj.cut = {'NKGFitFlag':[0,3], 'NKGSize':[10**3.5,10**9], 'Theta1':[0,45],\\\n",
    "                       'Age':[0.2,1.8]}\n",
    "#testSimobj.distcut = True\n"
   ]
  },
  {
   "cell_type": "code",
   "execution_count": 4,
   "id": "932ad210-abf9-4509-9681-45bd33de18b3",
   "metadata": {},
   "outputs": [],
   "source": [
    "out = testSimobj.getvar(var=[ 'nMuonLarge', 'nMuonSmall',\\\n",
    "                'Age', 'NKGSize', 'NKGX', 'NKGY', 'Theta1', 'Phi1','PrimaryEnergy'])"
   ]
  },
  {
   "cell_type": "code",
   "execution_count": 15,
   "id": "c681da09-bba3-407e-a535-4dcc0483261b",
   "metadata": {},
   "outputs": [],
   "source": [
    "#out"
   ]
  },
  {
   "cell_type": "code",
   "execution_count": 6,
   "id": "4d4403aa-7df5-4bfd-b656-9ee23b0124d7",
   "metadata": {},
   "outputs": [],
   "source": [
    "import EAS"
   ]
  },
  {
   "cell_type": "code",
   "execution_count": 8,
   "id": "7eb012b8-f406-4a52-917f-bdcd0576749b",
   "metadata": {},
   "outputs": [],
   "source": [
    "testEASobj = EAS.EAS()"
   ]
  },
  {
   "cell_type": "code",
   "execution_count": 12,
   "id": "a44379b9-1ad6-4650-94e9-255765141e9a",
   "metadata": {},
   "outputs": [],
   "source": [
    "out = testEASobj.getvar()"
   ]
  },
  {
   "cell_type": "code",
   "execution_count": 14,
   "id": "b07c2a32-3a37-4351-a952-7ce0a5efa331",
   "metadata": {},
   "outputs": [],
   "source": [
    "# out"
   ]
  },
  {
   "cell_type": "code",
   "execution_count": 1,
   "id": "906fc31c-ee5f-4db3-a94b-5da8557fa7ba",
   "metadata": {},
   "outputs": [],
   "source": [
    "import fullEAS"
   ]
  },
  {
   "cell_type": "code",
   "execution_count": 3,
   "id": "1255918b-d347-4f14-be52-f4ec4bed6d98",
   "metadata": {},
   "outputs": [],
   "source": [
    "# %%time\n",
    "# data16 = fullEAS.FullEASdata().load(year = 2016,cache=False)"
   ]
  },
  {
   "cell_type": "code",
   "execution_count": 6,
   "id": "692f7850-1522-4fff-befe-4574dd9f3d39",
   "metadata": {},
   "outputs": [
    {
     "ename": "ModuleNotFoundError",
     "evalue": "No module named 'g3LLH_bg'",
     "output_type": "error",
     "traceback": [
      "\u001b[0;31m---------------------------------------------------------------------------\u001b[0m",
      "\u001b[0;31mModuleNotFoundError\u001b[0m                       Traceback (most recent call last)",
      "Cell \u001b[0;32mIn[6], line 1\u001b[0m\n\u001b[0;32m----> 1\u001b[0m \u001b[38;5;28;01mimport\u001b[39;00m \u001b[38;5;21;01mpsLLH\u001b[39;00m\n",
      "File \u001b[0;32m~/libs/g3py/g3py/psLLH.py:8\u001b[0m\n\u001b[1;32m      6\u001b[0m \u001b[38;5;28;01mimport\u001b[39;00m \u001b[38;5;21;01mastropy\u001b[39;00m\u001b[38;5;21;01m.\u001b[39;00m\u001b[38;5;21;01munits\u001b[39;00m \u001b[38;5;28;01mas\u001b[39;00m \u001b[38;5;21;01mu\u001b[39;00m\n\u001b[1;32m      7\u001b[0m \u001b[38;5;28;01mimport\u001b[39;00m \u001b[38;5;21;01mpickle\u001b[39;00m\n\u001b[0;32m----> 8\u001b[0m \u001b[38;5;28;01mimport\u001b[39;00m \u001b[38;5;21;01mg3LLH_bg\u001b[39;00m\n\u001b[1;32m      9\u001b[0m \u001b[38;5;28;01mimport\u001b[39;00m \u001b[38;5;21;01mIRF\u001b[39;00m\n\u001b[1;32m     12\u001b[0m \u001b[38;5;28;01mclass\u001b[39;00m \u001b[38;5;21;01mps\u001b[39;00m:\n",
      "\u001b[0;31mModuleNotFoundError\u001b[0m: No module named 'g3LLH_bg'"
     ]
    }
   ],
   "source": [
    "import psLLH"
   ]
  }
 ],
 "metadata": {
  "kernelspec": {
   "display_name": "Python 3 (ipykernel)",
   "language": "python",
   "name": "python3"
  },
  "language_info": {
   "codemirror_mode": {
    "name": "ipython",
    "version": 3
   },
   "file_extension": ".py",
   "mimetype": "text/x-python",
   "name": "python",
   "nbconvert_exporter": "python",
   "pygments_lexer": "ipython3",
   "version": "3.12.4"
  }
 },
 "nbformat": 4,
 "nbformat_minor": 5
}
